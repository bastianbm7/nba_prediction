{
 "cells": [
  {
   "cell_type": "code",
   "execution_count": 1,
   "metadata": {},
   "outputs": [],
   "source": [
    "from nba_api.stats.static import players\n",
    "import pandas as pd\n",
    "import re\n",
    "\n",
    "def player_id(player_name):\n",
    "\n",
    "    # get_players returns a list of dictionaries, each representing a player.\n",
    "    df_players = pd.DataFrame(players.get_players())\n",
    "\n",
    "    # Regex to match the first name or last name\n",
    "    player_name_regex = re.compile(r'\\b' + re.escape(player_name) + r'\\b', re.IGNORECASE)\n",
    "    \n",
    "    # Apply the regex to the 'full_name' column to find a match\n",
    "    df = df_players[df_players['full_name'].str.contains(player_name_regex, regex=True)]\n",
    "    \n",
    "    if not df.empty:\n",
    "        return df\n",
    "    else:\n",
    "        return None  # Return None if no match is found\n",
    "    \n",
    "df_player_id = player_id('lebron')\n",
    "player_id = df_player_id['id']"
   ]
  },
  {
   "cell_type": "code",
   "execution_count": null,
   "metadata": {},
   "outputs": [],
   "source": [
    "from nba_api.stats.endpoints import playercareerstats, PlayerGameLog\n",
    "\n",
    "def get_games_id(player_id, years):\n",
    "    # Create df to save the data\n",
    "    df = pd.DataFrame()\n",
    "\n",
    "    # Loop throug selected years\n",
    "    for year in years:\n",
    "        # Get data of the year\n",
    "        games_log = PlayerGameLog(player_id, season = year).get_data_frames()[0]\n",
    "\n",
    "        # Save data in df\n",
    "        df = pd.concat([df, games_log])\n",
    "\n",
    "    # Get all unique games from the player\n",
    "    game_id = df['Game_ID'].unique()\n",
    "\n",
    "    return df\n",
    "\n",
    "\n",
    "\n",
    "#games_id = games_id[:3]"
   ]
  },
  {
   "cell_type": "code",
   "execution_count": 7,
   "metadata": {},
   "outputs": [],
   "source": [
    "from nba_api.stats.endpoints import playercareerstats, playbyplay, PlayByPlayV2, PlayByPlayV3\n",
    "import time\n",
    "\n",
    "def make_df_points(df_gamelog, player_name):\n",
    "\n",
    "    games_id = df_gamelog['Game_ID'].tolist()\n",
    "\n",
    "    df = pd.DataFrame()\n",
    "    # Loop through all games of the player\n",
    "    for games in games_id:\n",
    "\n",
    "        season = df_gamelog.loc[df_gamelog['Game_ID'] == games]\n",
    "        season = season['SEASON_ID'].values[0]\n",
    "\n",
    "        # Get play by play data on the game\n",
    "        df_plays = PlayByPlayV2(games)\n",
    "        df_plays = df_plays.get_data_frames()[0]\n",
    "\n",
    "        # Filter by all events who are goal made\n",
    "        df_goal = df_plays.loc[(df_plays['EVENTMSGTYPE'] == 1) | (df_plays['EVENTMSGTYPE'] == 3)]\n",
    "        df_goal = df_goal.loc[(df_goal['PLAYER1_NAME'] == player_name)]\n",
    "\n",
    "        df_goal['Season'] = season\n",
    "        \n",
    "        # Save data on df\n",
    "        df = pd.concat([df, df_goal])\n",
    "\n",
    "        time.sleep(1)\n",
    "\n",
    "    # Create a new column 'DESCRIPTION'\n",
    "    df['DESCRIPTION'] = df['HOMEDESCRIPTION'].fillna(df['VISITORDESCRIPTION'])\n",
    "\n",
    "    # Filter the columns to use\n",
    "    columns = ['GAME_ID', 'EVENTMSGTYPE', 'EVENTMSGACTIONTYPE', \n",
    "           'PERIOD', 'PCTIMESTRING', 'PLAYER1_ID', 'PLAYER1_NAME', 'DESCRIPTION', 'Season']\n",
    "    df_filtered = df[columns]\n",
    "\n",
    "    # Create a column with total points in the event (1 or 2)\n",
    "    df_filtered['POINTS'] = df_filtered.apply(lambda row: 1 if row['EVENTMSGTYPE'] == 3 \n",
    "                                              else (3 if '3PT' in row['DESCRIPTION'] \n",
    "                                                    else 2), axis=1)\n",
    "\n",
    "    df_filtered = df_filtered[~df_filtered['DESCRIPTION'].str.contains('MISS')]\n",
    "\n",
    "    return df_filtered"
   ]
  },
  {
   "cell_type": "code",
   "execution_count": null,
   "metadata": {},
   "outputs": [
    {
     "name": "stderr",
     "output_type": "stream",
     "text": [
      "C:\\Users\\basti\\AppData\\Local\\Temp\\ipykernel_29128\\1181492040.py:39: SettingWithCopyWarning: \n",
      "A value is trying to be set on a copy of a slice from a DataFrame.\n",
      "Try using .loc[row_indexer,col_indexer] = value instead\n",
      "\n",
      "See the caveats in the documentation: https://pandas.pydata.org/pandas-docs/stable/user_guide/indexing.html#returning-a-view-versus-a-copy\n",
      "  df_filtered['POINTS'] = df_filtered.apply(lambda row: 1 if row['EVENTMSGTYPE'] == 3\n"
     ]
    }
   ],
   "source": [
    "years = [2020]\n",
    "df_gamelog = get_games_id(player_id, years)\n",
    "\n",
    "games_id = df_gamelog['Game_ID'].tolist()\n",
    "\n",
    "player_name = df_player_id['full_name'].values[0]\n",
    "df_points = make_df_points(df_gamelog, player_name)\n",
    "\n",
    "# Set the player name and year to create the filename\n",
    "file_name = f\"data\\\\points_{player_name}_{years[0]}.xlsx\"\n",
    "\n",
    "# Save the DataFrame to Excel\n",
    "df_points.to_excel(file_name, index=False)"
   ]
  },
  {
   "cell_type": "code",
   "execution_count": null,
   "metadata": {},
   "outputs": [
    {
     "name": "stderr",
     "output_type": "stream",
     "text": [
      "C:\\Users\\basti\\AppData\\Local\\Temp\\ipykernel_29128\\1181492040.py:39: SettingWithCopyWarning: \n",
      "A value is trying to be set on a copy of a slice from a DataFrame.\n",
      "Try using .loc[row_indexer,col_indexer] = value instead\n",
      "\n",
      "See the caveats in the documentation: https://pandas.pydata.org/pandas-docs/stable/user_guide/indexing.html#returning-a-view-versus-a-copy\n",
      "  df_filtered['POINTS'] = df_filtered.apply(lambda row: 1 if row['EVENTMSGTYPE'] == 3\n"
     ]
    }
   ],
   "source": [
    "years = [2021]\n",
    "df_gamelog = get_games_id(player_id, years)\n",
    "\n",
    "games_id = df_gamelog['Game_ID'].tolist()\n",
    "\n",
    "player_name = df_player_id['full_name'].values[0]\n",
    "df_points = make_df_points(df_gamelog, player_name)\n",
    "\n",
    "# Set the player name and year to create the filename\n",
    "file_name = f\"data\\\\points_{player_name}_{years[0]}.xlsx\"\n",
    "\n",
    "# Save the DataFrame to Excel\n",
    "df_points.to_excel(file_name, index=False)"
   ]
  },
  {
   "cell_type": "code",
   "execution_count": 12,
   "metadata": {},
   "outputs": [
    {
     "name": "stderr",
     "output_type": "stream",
     "text": [
      "C:\\Users\\basti\\AppData\\Local\\Temp\\ipykernel_29128\\1181492040.py:39: SettingWithCopyWarning: \n",
      "A value is trying to be set on a copy of a slice from a DataFrame.\n",
      "Try using .loc[row_indexer,col_indexer] = value instead\n",
      "\n",
      "See the caveats in the documentation: https://pandas.pydata.org/pandas-docs/stable/user_guide/indexing.html#returning-a-view-versus-a-copy\n",
      "  df_filtered['POINTS'] = df_filtered.apply(lambda row: 1 if row['EVENTMSGTYPE'] == 3\n"
     ]
    }
   ],
   "source": [
    "years = [2022]\n",
    "df_gamelog = get_games_id(player_id, years)\n",
    "\n",
    "games_id = df_gamelog['Game_ID'].tolist()\n",
    "\n",
    "player_name = df_player_id['full_name'].values[0]\n",
    "df_points = make_df_points(df_gamelog, player_name)\n",
    "\n",
    "# Set the player name and year to create the filename\n",
    "file_name = f\"data\\\\points_{player_name}_{years[0]}.xlsx\"\n",
    "\n",
    "# Save the DataFrame to Excel\n",
    "df_points.to_excel(file_name, index=False)"
   ]
  },
  {
   "cell_type": "code",
   "execution_count": null,
   "metadata": {},
   "outputs": [
    {
     "name": "stderr",
     "output_type": "stream",
     "text": [
      "C:\\Users\\basti\\AppData\\Local\\Temp\\ipykernel_29128\\1181492040.py:39: SettingWithCopyWarning: \n",
      "A value is trying to be set on a copy of a slice from a DataFrame.\n",
      "Try using .loc[row_indexer,col_indexer] = value instead\n",
      "\n",
      "See the caveats in the documentation: https://pandas.pydata.org/pandas-docs/stable/user_guide/indexing.html#returning-a-view-versus-a-copy\n",
      "  df_filtered['POINTS'] = df_filtered.apply(lambda row: 1 if row['EVENTMSGTYPE'] == 3\n"
     ]
    }
   ],
   "source": [
    "years = [2023]\n",
    "df_gamelog = get_games_id(player_id, years)\n",
    "\n",
    "games_id = df_gamelog['Game_ID'].tolist()\n",
    "\n",
    "player_name = df_player_id['full_name'].values[0]\n",
    "df_points = make_df_points(df_gamelog, player_name)\n",
    "\n",
    "# Set the player name and year to create the filename\n",
    "file_name = f\"data\\\\points_{player_name}_{years[0]}.xlsx\"\n",
    "\n",
    "# Save the DataFrame to Excel\n",
    "df_points.to_excel(file_name, index=False)"
   ]
  },
  {
   "cell_type": "code",
   "execution_count": 13,
   "metadata": {},
   "outputs": [
    {
     "name": "stderr",
     "output_type": "stream",
     "text": [
      "C:\\Users\\basti\\AppData\\Local\\Temp\\ipykernel_29128\\1181492040.py:39: SettingWithCopyWarning: \n",
      "A value is trying to be set on a copy of a slice from a DataFrame.\n",
      "Try using .loc[row_indexer,col_indexer] = value instead\n",
      "\n",
      "See the caveats in the documentation: https://pandas.pydata.org/pandas-docs/stable/user_guide/indexing.html#returning-a-view-versus-a-copy\n",
      "  df_filtered['POINTS'] = df_filtered.apply(lambda row: 1 if row['EVENTMSGTYPE'] == 3\n"
     ]
    }
   ],
   "source": [
    "years = [2024]\n",
    "df_gamelog = get_games_id(player_id, years)\n",
    "\n",
    "games_id = df_gamelog['Game_ID'].tolist()\n",
    "\n",
    "player_name = df_player_id['full_name'].values[0]\n",
    "df_points = make_df_points(df_gamelog, player_name)\n",
    "\n",
    "# Set the player name and year to create the filename\n",
    "file_name = f\"data\\\\points_{player_name}_{years[0]}.xlsx\"\n",
    "\n",
    "# Save the DataFrame to Excel\n",
    "df_points.to_excel(file_name, index=False)"
   ]
  }
 ],
 "metadata": {
  "kernelspec": {
   "display_name": "Python 3",
   "language": "python",
   "name": "python3"
  },
  "language_info": {
   "codemirror_mode": {
    "name": "ipython",
    "version": 3
   },
   "file_extension": ".py",
   "mimetype": "text/x-python",
   "name": "python",
   "nbconvert_exporter": "python",
   "pygments_lexer": "ipython3",
   "version": "3.10.8"
  }
 },
 "nbformat": 4,
 "nbformat_minor": 2
}
